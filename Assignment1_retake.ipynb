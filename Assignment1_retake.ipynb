{
 "cells": [
  {
   "cell_type": "code",
   "execution_count": 1,
   "metadata": {},
   "outputs": [],
   "source": [
    "# used for manipulating directory paths\n",
    "import os\n",
    "\n",
    "# Scientific and vector computation for python\n",
    "import numpy as np\n",
    "import pandas as pd\n",
    "\n",
    "from sklearn.ensemble import RandomForestClassifier\n",
    "from sklearn import datasets\n",
    "from sklearn.model_selection import learning_curve\n",
    "\n",
    "# Plotting library\n",
    "from matplotlib import pyplot as plt\n",
    "from mpl_toolkits.mplot3d import Axes3D  # needed to plot 3-D surfaces\n",
    "# tells matplotlib to embed plots within the notebook\n",
    "%matplotlib inline"
   ]
  },
  {
   "cell_type": "code",
   "execution_count": 2,
   "metadata": {},
   "outputs": [],
   "source": [
    "data = pd.read_csv(r'C:\\Users\\hh\\Desktop\\Semester 10\\Machine Learning\\Assignments\\house_prices_data_training_data.csv')"
   ]
  },
  {
   "cell_type": "code",
   "execution_count": 3,
   "metadata": {},
   "outputs": [
    {
     "data": {
      "text/plain": [
       "Text(0.5, 0, 'scoring grades assigned to houses')"
      ]
     },
     "execution_count": 3,
     "metadata": {},
     "output_type": "execute_result"
    },
    {
     "data": {
      "image/png": "[encoded data removed]",
      "text/plain": [
       "<Figure size 432x288 with 1 Axes>"
      ]
     },
     "metadata": {
      "needs_background": "light"
     },
     "output_type": "display_data"
    }
   ],
   "source": [
    "x_, y_ = data['grade'], data['price']\n",
    "plt.plot(x_, y_, 'ro', ms=10, mec='k')\n",
    "plt.ylabel('House Price')\n",
    "plt.xlabel('scoring grades assigned to houses')"
   ]
  },
  {
   "cell_type": "code",
   "execution_count": 4,
   "metadata": {},
   "outputs": [],
   "source": [
    "#Splitting data into 3 sets of training, cross-validation, and testing with ratios 6:2:2 respectively\n",
    "\n",
    "train, validate, test = np.split(data.sample(frac=1), [int(.6*len(data)), int(.8*len(data))])"
   ]
  },
  {
   "cell_type": "code",
   "execution_count": 5,
   "metadata": {},
   "outputs": [],
   "source": [
    "#calculates and returns the mean and standard-deviation for a given dataset\n",
    "\n",
    "def getMeanStd(X):\n",
    "    mean = X.mean()\n",
    "    std = X.std()\n",
    "    return mean, std"
   ]
  },
  {
   "cell_type": "code",
   "execution_count": 6,
   "metadata": {},
   "outputs": [],
   "source": [
    "#normalizes a dataframe by centering the data at the mean\n",
    "\n",
    "def normalize(X):\n",
    "\n",
    "    X_norm = X\n",
    "    mean, std = getMeanStd(X)\n",
    "    X_norm = (X_norm - mean) / std\n",
    "    \n",
    "    return X_norm"
   ]
  },
  {
   "cell_type": "code",
   "execution_count": 7,
   "metadata": {},
   "outputs": [],
   "source": [
    "#outputs the values of each feature as: x1 + x2^2 + x3^3, where x's represent features (cols in df)\n",
    "#as a result, it returns a dataframe with each feature of the given df is raised to the power of its column-position in the dataframe\n",
    "\n",
    "def retExpoFunc(X):\n",
    "    \n",
    "    s = X.shape[1]\n",
    "    \n",
    "    for i in range(1, s):\n",
    "        X.iloc[:, i] = X.iloc[:, i].pow(i+1)\n",
    "    return X"
   ]
  },
  {
   "cell_type": "code",
   "execution_count": 8,
   "metadata": {},
   "outputs": [],
   "source": [
    "#this function uses the above-defined helper functions to perform the following:\n",
    "# 1) uses the exponent function to raise each feature with its corresponding power\n",
    "# 2) normalizes the given dataframe\n",
    "# 3) converts the pandas df into a numpy array\n",
    "# 4) concatenates a column of ones at the beginning of the features (X) such that it is a dummy variable for theta0\n",
    "\n",
    "def NormArray(X):\n",
    "    \n",
    "    m = X.shape[0]\n",
    "    \n",
    "    Xn = retExpoFunc(X)\n",
    "    Xn = normalize(Xn)\n",
    "    Xn = Xn.to_numpy()\n",
    "    Xn = np.concatenate([np.ones((m,1), dtype = float), Xn], axis =1)\n",
    "    \n",
    "    return Xn"
   ]
  },
  {
   "cell_type": "code",
   "execution_count": 9,
   "metadata": {},
   "outputs": [],
   "source": [
    "#compute cost for linear regression with multiple variables.\n",
    "\n",
    "def computeCostMulti(X, y, theta):\n",
    "    \n",
    "    m = y.shape[0] \n",
    "    \n",
    "    J = 0\n",
    "    \n",
    "    Hyp = np.dot(X, theta)\n",
    "    \n",
    "    \n",
    "    J = (1/(2 * m)) * np.sum(np.square(Hyp - y))\n",
    "    \n",
    "    return J"
   ]
  },
  {
   "cell_type": "code",
   "execution_count": 10,
   "metadata": {},
   "outputs": [],
   "source": [
    "#Performs gradient descent to learn theta.\n",
    "#Updates theta by taking num_iters gradient steps with learning rate alpha.\n",
    "\n",
    "def gradientDescentMulti(X, y, theta, alpha, num_iters):\n",
    "\n",
    "    m = y.shape[0] \n",
    "    theta = theta.copy()\n",
    "\n",
    "    J_history = []\n",
    "    \n",
    "    for i in range(num_iters):\n",
    "\n",
    "        Hyp = np.dot(X, theta)\n",
    "        \n",
    "        theta = theta - ((alpha/m)*(np.dot(X.T, Hyp-y)))\n",
    "\n",
    "        J_history.append(computeCostMulti(X, y, theta))\n",
    "    \n",
    "    return theta, J_history"
   ]
  },
  {
   "cell_type": "code",
   "execution_count": 11,
   "metadata": {},
   "outputs": [],
   "source": [
    "#plots the cost function over a specified number of iterations.\n",
    "#learning is achieved in each iteration as the error is decreasing.\n",
    "\n",
    "def plotCost(X, y):\n",
    "    alpha = 0.01\n",
    "    num_iters = 400\n",
    "    \n",
    "    num_features = X.shape[1]\n",
    "\n",
    "    theta = np.zeros((num_features, 1))\n",
    "    theta, J_history = gradientDescentMulti(X, y, theta, alpha, num_iters)\n",
    "\n",
    "    plt.plot(np.arange(len(J_history)), J_history, lw=2)\n",
    "    plt.xlabel('Number of iterations')\n",
    "    plt.ylabel('Cost J')\n",
    "    print('theta computed from gradient descent: \\n {:s}'.format(str(theta)))\n",
    "    print()\n",
    "    return theta"
   ]
  },
  {
   "cell_type": "code",
   "execution_count": null,
   "metadata": {},
   "outputs": [],
   "source": []
  },
  {
   "cell_type": "code",
   "execution_count": 12,
   "metadata": {},
   "outputs": [],
   "source": [
    "#this section declares variables in corrspondance to each order of features used\n",
    "#this model will use 5 features, thus, upto x^5\n",
    "#each selected feature has been accounted for its range of values, as such, \n",
    "#features with high values have been places at the beginning to minimize the range of resulting \n",
    "#values when applying the exponent function\n",
    "#ex., sqft_living measures are in the range of thousands,\n",
    "#while bedrooms are in the range of single digits. thus, bedrooms, have\n",
    "#been placed at the end to minimize the variance when raising the values of bedrooms to ^5\n",
    "\n",
    "#this section further instantiates dataframes for each variable as train, validation, and test\n",
    "\n",
    "X_train1 = train[['sqft_living']].copy()\n",
    "X_train2 = train[['sqft_living' , 'grade']].copy()\n",
    "X_train3 = train[['sqft_living' , 'grade', 'bathrooms']].copy()\n",
    "X_train4 = train[['sqft_living' , 'grade', 'bathrooms', 'condition']].copy()\n",
    "X_train5 = train[['sqft_living' , 'grade', 'bathrooms', 'condition', 'bedrooms']].copy()\n",
    "\n",
    "X_cv1 = validate[['sqft_living']].copy()\n",
    "X_cv2 = validate[['sqft_living' , 'grade']].copy()\n",
    "X_cv3 = validate[['sqft_living' , 'grade', 'bathrooms']].copy()\n",
    "X_cv4 = validate[['sqft_living' , 'grade', 'bathrooms', 'condition']].copy()\n",
    "X_cv5 = validate[['sqft_living' , 'grade', 'bathrooms', 'condition', 'bedrooms']].copy()\n",
    "\n",
    "X_test1 = test[['sqft_living']].copy()\n",
    "X_test2 = test[['sqft_living' , 'grade']].copy()\n",
    "X_test3 = test[['sqft_living' , 'grade', 'bathrooms']].copy()\n",
    "X_test4 = test[['sqft_living' , 'grade', 'bathrooms', 'condition']].copy()\n",
    "X_test5 = test[['sqft_living' , 'grade', 'bathrooms', 'condition', 'bedrooms']].copy()\n",
    "\n",
    "y_train = train[['price']].copy()\n",
    "y_cv = validate[['price']].copy()\n",
    "y_test = test[['price']].copy()\n"
   ]
  },
  {
   "cell_type": "code",
   "execution_count": null,
   "metadata": {},
   "outputs": [],
   "source": []
  },
  {
   "cell_type": "code",
   "execution_count": 13,
   "metadata": {},
   "outputs": [],
   "source": [
    "#this section normalizes all variable created in the previous section and returns their correspnding numpy arrays\n",
    "\n",
    "X_train1N = NormArray(X_train1)\n",
    "X_train2N = NormArray(X_train2)\n",
    "X_train3N = NormArray(X_train3)\n",
    "X_train4N = NormArray(X_train4)\n",
    "X_train5N = NormArray(X_train5)\n",
    "\n",
    "X_cv1N = NormArray(X_cv1)\n",
    "X_cv2N = NormArray(X_cv2)\n",
    "X_cv3N = NormArray(X_cv3)\n",
    "X_cv4N = NormArray(X_cv4)\n",
    "X_cv5N = NormArray(X_cv5)\n",
    "\n",
    "X_test1N = NormArray(X_test1)\n",
    "X_test2N = NormArray(X_test2)\n",
    "X_test3N = NormArray(X_test3)\n",
    "X_test4N = NormArray(X_test4)\n",
    "X_test5N = NormArray(X_test5)\n",
    "\n",
    "y_trainN = NormArray(y_train)\n",
    "y_cvN = NormArray(y_cv)\n",
    "y_testN = NormArray(y_test)"
   ]
  },
  {
   "cell_type": "code",
   "execution_count": 14,
   "metadata": {},
   "outputs": [
    {
     "name": "stdout",
     "output_type": "stream",
     "text": [
      "theta computed from gradient descent: \n",
      " [[ 9.82049447e-01 -5.56877753e-17]\n",
      " [ 2.01003930e-17  6.83252260e-01]]\n",
      "\n",
      "theta computed from gradient descent: \n",
      " [[ 9.82049447e-01 -3.26814128e-17]\n",
      " [ 2.76890589e-17  4.00410849e-01]\n",
      " [-2.54812582e-17  3.80331806e-01]]\n",
      "\n",
      "theta computed from gradient descent: \n",
      " [[ 9.82049447e-01 -2.80731494e-17]\n",
      " [ 3.01094664e-17  3.32234814e-01]\n",
      " [-2.55487002e-17  3.59824140e-01]\n",
      " [-1.04501708e-17  1.18132585e-01]]\n",
      "\n",
      "theta computed from gradient descent: \n",
      " [[ 9.82049447e-01 -2.76290190e-17]\n",
      " [ 3.08463937e-17  3.26306569e-01]\n",
      " [-2.55473637e-17  3.75680176e-01]\n",
      " [-1.02320638e-17  1.22340957e-01]\n",
      " [-1.98645902e-17  1.25166656e-01]]\n",
      "\n",
      "theta computed from gradient descent: \n",
      " [[ 9.82049447e-01 -2.79135914e-17]\n",
      " [ 3.08796007e-17  3.26310925e-01]\n",
      " [-2.54663510e-17  3.75682473e-01]\n",
      " [-1.02225026e-17  1.22338484e-01]\n",
      " [-1.96933121e-17  1.25074493e-01]\n",
      " [ 5.33206994e-19  3.47528022e-03]]\n",
      "\n"
     ]
    },
    {
     "data": {
      "text/plain": [
       "<matplotlib.legend.Legend at 0x16dc51d8>"
      ]
     },
     "execution_count": 14,
     "metadata": {},
     "output_type": "execute_result"
    },
    {
     "data": {
      "image/png": "[encoded data removed]",
      "text/plain": [
       "<Figure size 1152x648 with 1 Axes>"
      ]
     },
     "metadata": {
      "needs_background": "light"
     },
     "output_type": "display_data"
    }
   ],
   "source": [
    "#plotting the cost for each training model starting by the one of the first order (order d = 1)\n",
    "#printing the calculated theta values of theta after iterations and saving them for later use when testing\n",
    "\n",
    "plt.figure(figsize=(16,9))\n",
    "\n",
    "theta1 = plotCost(X_train1N, y_trainN)\n",
    "\n",
    "theta2 = plotCost(X_train2N, y_trainN)\n",
    "\n",
    "theta3 = plotCost(X_train3N, y_trainN)\n",
    "\n",
    "theta4 = plotCost(X_train4N, y_trainN)\n",
    "\n",
    "theta5 = plotCost(X_train5N, y_trainN)\n",
    "\n",
    "plt.legend([\"order 1\", \"order 2\", \"order 3\", \"order 4\", \"order 5\"], loc=\"best\")"
   ]
  },
  {
   "cell_type": "code",
   "execution_count": 15,
   "metadata": {},
   "outputs": [
    {
     "data": {
      "text/plain": [
       "0.258627684730279"
      ]
     },
     "execution_count": 15,
     "metadata": {},
     "output_type": "execute_result"
    }
   ],
   "source": [
    "#using the cross-validation set to test for the errors to then choose\n",
    "#the function order that produces the least error/cost so that we can use it to further test it using the test set\n",
    "\n",
    "J_cv1 = computeCostMulti(X_cv1N,y_cvN, theta1)\n",
    "J_cv1"
   ]
  },
  {
   "cell_type": "code",
   "execution_count": 16,
   "metadata": {},
   "outputs": [
    {
     "data": {
      "text/plain": [
       "0.2324944678428876"
      ]
     },
     "execution_count": 16,
     "metadata": {},
     "output_type": "execute_result"
    }
   ],
   "source": [
    "J_cv2 = computeCostMulti(X_cv2N,y_cvN, theta2)\n",
    "J_cv2"
   ]
  },
  {
   "cell_type": "code",
   "execution_count": 17,
   "metadata": {},
   "outputs": [
    {
     "data": {
      "text/plain": [
       "0.2307529150882975"
      ]
     },
     "execution_count": 17,
     "metadata": {},
     "output_type": "execute_result"
    }
   ],
   "source": [
    "J_cv3 = computeCostMulti(X_cv3N,y_cvN, theta3)\n",
    "J_cv3"
   ]
  },
  {
   "cell_type": "code",
   "execution_count": 18,
   "metadata": {},
   "outputs": [
    {
     "data": {
      "text/plain": [
       "0.2214400785423533"
      ]
     },
     "execution_count": 18,
     "metadata": {},
     "output_type": "execute_result"
    }
   ],
   "source": [
    "J_cv4 = computeCostMulti(X_cv4N,y_cvN, theta4)\n",
    "J_cv4"
   ]
  },
  {
   "cell_type": "code",
   "execution_count": 19,
   "metadata": {},
   "outputs": [
    {
     "data": {
      "text/plain": [
       "0.22155415249438581"
      ]
     },
     "execution_count": 19,
     "metadata": {},
     "output_type": "execute_result"
    }
   ],
   "source": [
    "J_cv5 = computeCostMulti(X_cv5N,y_cvN, theta5)\n",
    "J_cv5"
   ]
  },
  {
   "cell_type": "code",
   "execution_count": 20,
   "metadata": {},
   "outputs": [
    {
     "data": {
      "text/plain": [
       "0.20054529694653972"
      ]
     },
     "execution_count": 20,
     "metadata": {},
     "output_type": "execute_result"
    }
   ],
   "source": [
    "#it seems that by running the model several times using different train, test, validate sets,\n",
    "#using degree 4 yields the least error result\n",
    "#testing the model using the 4th order\n",
    "\n",
    "J_test4 = computeCostMulti(X_test4N, y_testN, theta4)\n",
    "J_test4"
   ]
  },
  {
   "cell_type": "code",
   "execution_count": null,
   "metadata": {},
   "outputs": [],
   "source": []
  },
  {
   "cell_type": "code",
   "execution_count": null,
   "metadata": {},
   "outputs": [],
   "source": []
  },
  {
   "cell_type": "code",
   "execution_count": null,
   "metadata": {},
   "outputs": [],
   "source": []
  },
  {
   "cell_type": "code",
   "execution_count": null,
   "metadata": {},
   "outputs": [],
   "source": []
  },
  {
   "cell_type": "code",
   "execution_count": null,
   "metadata": {},
   "outputs": [],
   "source": []
  },
  {
   "cell_type": "code",
   "execution_count": 21,
   "metadata": {},
   "outputs": [],
   "source": [
    "#compute regularized cost for linear regression with multiple variables.\n",
    "\n",
    "def RegCostMulti(X, y, theta, lambda_):\n",
    "    \n",
    "    m = y.size\n",
    "    grad = np.zeros(theta.shape[1])\n",
    "    \n",
    "    h = X.dot(theta)\n",
    "    J = (1 / (2 * m)) * np.sum(np.square(h - y)) + (lambda_ / (2 * m)) * np.sum(np.square(theta[1:]))\n",
    "    \n",
    "    grad = (1 / m) * np.dot(X.T, h-y)\n",
    "    grad[1:] = grad[1:] + (lambda_ / m) * theta[1:]\n",
    "    #print('theta computed from gradient descent: {:s}'.format(str(theta)))\n",
    "\n",
    "    return J, "
   ]
  },
  {
   "cell_type": "code",
   "execution_count": 22,
   "metadata": {},
   "outputs": [],
   "source": [
    "#Performs gradient descent to learn theta.\n",
    "#Updates theta by taking num_iters gradient steps with learning rate alpha.\n",
    "#accounts for the regularization term lambda when iterating over theta\n",
    "\n",
    "def ReggradientDescentMulti(X, y, theta, alpha, num_iters, lambda_):\n",
    "\n",
    "    m = y.shape[0] \n",
    "    theta = theta.copy()\n",
    "\n",
    "    J_history = []\n",
    "    \n",
    "    for i in range(num_iters):\n",
    "\n",
    "        Hyp = np.dot(X, theta)\n",
    "        \n",
    "        theta = theta - ((alpha/m)*(np.dot(X.T, Hyp-y)) + lambda_*theta)\n",
    "\n",
    "        J_history.append(RegCostMulti(X, y, theta, lambda_))\n",
    "    \n",
    "    return theta, J_history"
   ]
  },
  {
   "cell_type": "code",
   "execution_count": 23,
   "metadata": {},
   "outputs": [],
   "source": [
    "#plots the regularized cost function over a specified number of iterations.\n",
    "#learning is achieved in each iteration as the error is decreasing.\n",
    "\n",
    "def plotRegCost(X, y, lambda_):\n",
    "    alpha = 0.01\n",
    "    num_iters = 200\n",
    "    \n",
    "    num_features = X.shape[1]\n",
    "\n",
    "    theta = np.zeros((num_features, 1))\n",
    "    \n",
    "    theta, J_history = ReggradientDescentMulti(X, y, theta, alpha, num_iters, lambda_)\n",
    "\n",
    "    plt.plot(np.arange(len(J_history)), J_history, lw=2)\n",
    "    plt.xlabel('Number of iterations')\n",
    "    plt.ylabel('Cost J')\n",
    "    print('theta computed from gradient descent: \\n {:s}'.format(str(theta)))\n",
    "    print()\n",
    "    return theta"
   ]
  },
  {
   "cell_type": "code",
   "execution_count": 24,
   "metadata": {},
   "outputs": [
    {
     "name": "stdout",
     "output_type": "stream",
     "text": [
      "theta computed from gradient descent: \n",
      " [[ 4.91206027e-01 -1.24005389e-17]\n",
      " [ 2.59806590e-17  3.41737628e-01]]\n",
      "\n",
      "theta computed from gradient descent: \n",
      " [[ 4.91206027e-01 -1.11527797e-17]\n",
      " [ 2.59823954e-17  2.51633465e-01]\n",
      " [ 8.43434839e-19  2.45927034e-01]]\n",
      "\n",
      "theta computed from gradient descent: \n",
      " [[ 4.91206027e-01 -1.12404698e-17]\n",
      " [ 2.53273398e-17  2.15841256e-01]\n",
      " [ 2.80182683e-18  2.22633671e-01]\n",
      " [ 1.60634822e-18  1.32130894e-01]]\n",
      "\n",
      "theta computed from gradient descent: \n",
      " [[ 4.91206027e-01 -9.54696088e-18]\n",
      " [ 2.52720765e-17  2.15847686e-01]\n",
      " [ 1.63761654e-18  2.25384940e-01]\n",
      " [ 1.41995095e-18  1.33200716e-01]\n",
      " [-1.22868343e-17  5.05188181e-02]]\n",
      "\n",
      "theta computed from gradient descent: \n",
      " [[ 4.91206027e-01 -1.05475867e-17]\n",
      " [ 2.52726108e-17  2.15849082e-01]\n",
      " [ 1.64634448e-18  2.25387264e-01]\n",
      " [ 1.42386892e-18  1.33201172e-01]\n",
      " [-1.22833455e-17  5.04915954e-02]\n",
      " [ 1.56949824e-19  2.17950706e-03]]\n",
      "\n"
     ]
    },
    {
     "data": {
      "text/plain": [
       "<matplotlib.legend.Legend at 0x16e29190>"
      ]
     },
     "execution_count": 24,
     "metadata": {},
     "output_type": "execute_result"
    },
    {
     "data": {
      "image/png": "[encoded data removed]",
      "text/plain": [
       "<Figure size 1152x648 with 1 Axes>"
      ]
     },
     "metadata": {
      "needs_background": "light"
     },
     "output_type": "display_data"
    }
   ],
   "source": [
    "#plotting the regularized cost for each training model starting by the one of the first order (order d = 1)\n",
    "#printing the calculated theta values of theta after iterations and saving them for later use when testing\n",
    "plt.figure(figsize=(16,9))\n",
    "thetaR1 = plotRegCost(X_train1N, y_trainN,0.01)\n",
    "\n",
    "thetaR2 = plotRegCost(X_train2N, y_trainN,0.01)\n",
    "\n",
    "thetaR3 = plotRegCost(X_train3N, y_trainN,0.01)\n",
    "\n",
    "thetaR4 = plotRegCost(X_train4N, y_trainN,0.01)\n",
    "\n",
    "thetaR5 = plotRegCost(X_train5N, y_trainN,0.01)\n",
    "\n",
    "plt.legend([\"order 1\", \"order 2\", \"order 3\", \"order 4\", \"order 5\"], loc=\"best\")"
   ]
  },
  {
   "cell_type": "code",
   "execution_count": 25,
   "metadata": {},
   "outputs": [
    {
     "name": "stdout",
     "output_type": "stream",
     "text": [
      "(0.22511113759591442,)\n",
      "[[ 4.91206027e-01 -1.24005389e-17]\n",
      " [ 2.59806590e-17  3.41737628e-01]]\n",
      "(0.22511186749970258,)\n",
      "[[ 4.91206027e-01 -1.24005389e-17]\n",
      " [ 2.59806590e-17  3.41737628e-01]]\n",
      "(0.22511916653758413,)\n",
      "[[ 4.91206027e-01 -1.24005389e-17]\n",
      " [ 2.59806590e-17  3.41737628e-01]]\n",
      "(0.2251921569163998,)\n",
      "[[ 4.91206027e-01 -1.24005389e-17]\n",
      " [ 2.59806590e-17  3.41737628e-01]]\n",
      "(0.22592206070455623,)\n",
      "[[ 4.91206027e-01 -1.24005389e-17]\n",
      " [ 2.59806590e-17  3.41737628e-01]]\n",
      "(0.23322109858612064,)\n",
      "[[ 4.91206027e-01 -1.24005389e-17]\n",
      " [ 2.59806590e-17  3.41737628e-01]]\n",
      "(0.30621147740176474,)\n",
      "[[ 4.91206027e-01 -1.24005389e-17]\n",
      " [ 2.59806590e-17  3.41737628e-01]]\n",
      "(1.0361152655582058,)\n",
      "[[ 4.91206027e-01 -1.24005389e-17]\n",
      " [ 2.59806590e-17  3.41737628e-01]]\n"
     ]
    }
   ],
   "source": [
    "#using the cross-validation set to test for the errors to then choose\n",
    "#the function order that produces the least error/cost so that we can use it to further test it using the test set\n",
    "#as can be seen from the result, changing the lambda values do not affect for a big change\n",
    "#as the calculated theta values are small, in this case, we want an alpha \n",
    "\n",
    "\n",
    "lambdas = [0.01, 0.1, 1, 10, 100, 1000, 10000, 100000]\n",
    "\n",
    "for i in range(len(lambdas)):\n",
    "    J_cv1R = RegCostMulti(X_cv1N, y_cvN, thetaR1, lambdas[i])\n",
    "    print(J_cv1R)\n",
    "    print(thetaR1)"
   ]
  },
  {
   "cell_type": "code",
   "execution_count": 26,
   "metadata": {},
   "outputs": [
    {
     "data": {
      "text/plain": [
       "(0.19805023609549266,)"
      ]
     },
     "execution_count": 26,
     "metadata": {},
     "output_type": "execute_result"
    }
   ],
   "source": [
    "J_cv2R = RegCostMulti(X_cv2N, y_cvN, thetaR2, 0.1)\n",
    "J_cv2R"
   ]
  },
  {
   "cell_type": "code",
   "execution_count": 27,
   "metadata": {},
   "outputs": [
    {
     "data": {
      "text/plain": [
       "(0.19304184693740054,)"
      ]
     },
     "execution_count": 27,
     "metadata": {},
     "output_type": "execute_result"
    }
   ],
   "source": [
    "J_cv3R = RegCostMulti(X_cv3N, y_cvN, thetaR3, 0.1)\n",
    "J_cv3R"
   ]
  },
  {
   "cell_type": "code",
   "execution_count": 28,
   "metadata": {},
   "outputs": [
    {
     "data": {
      "text/plain": [
       "(0.19032005291361614,)"
      ]
     },
     "execution_count": 28,
     "metadata": {},
     "output_type": "execute_result"
    }
   ],
   "source": [
    "J_cv4R = RegCostMulti(X_cv4N, y_cvN, thetaR4, 0.1)\n",
    "J_cv4R"
   ]
  },
  {
   "cell_type": "code",
   "execution_count": 29,
   "metadata": {},
   "outputs": [
    {
     "data": {
      "text/plain": [
       "(0.19030260182414507,)"
      ]
     },
     "execution_count": 29,
     "metadata": {},
     "output_type": "execute_result"
    }
   ],
   "source": [
    "J_cv5R = RegCostMulti(X_cv5N, y_cvN, thetaR5, 0.1)\n",
    "J_cv5R"
   ]
  },
  {
   "cell_type": "code",
   "execution_count": 30,
   "metadata": {},
   "outputs": [
    {
     "data": {
      "text/plain": [
       "(0.17936227029790006,)"
      ]
     },
     "execution_count": 30,
     "metadata": {},
     "output_type": "execute_result"
    }
   ],
   "source": [
    "#it seems that by running the model several times using different train, test, validate sets,\n",
    "#using degree 4 yields the least error result\n",
    "#testing the model using the 4th order\n",
    "#it is also visible from the observations that using the regularized model\n",
    "#yields less error (cost function output) than in the normal model selection scheme\n",
    "\n",
    "J_test4R = RegCostMulti(X_test4N, y_testN, thetaR4, 0.1)\n",
    "J_test4R"
   ]
  },
  {
   "cell_type": "code",
   "execution_count": null,
   "metadata": {},
   "outputs": [],
   "source": []
  },
  {
   "cell_type": "code",
   "execution_count": null,
   "metadata": {},
   "outputs": [],
   "source": []
  },
  {
   "cell_type": "code",
   "execution_count": null,
   "metadata": {},
   "outputs": [],
   "source": []
  },
  {
   "cell_type": "code",
   "execution_count": 31,
   "metadata": {},
   "outputs": [],
   "source": [
    "#This method describes thea implementation on the learning curves.\n",
    "#the training  and CV sets' errors' are plotted for different number of features for the dataset\n",
    "#the resulting curve would indicate whether this model has high variance / bias\n",
    "\n",
    "def learning_curves(X_train, y_train, X_val, y_val):\n",
    "   \n",
    "    theta = np.zeros((X_train.shape[1], 1))\n",
    "    itera = 100\n",
    "    alpha = 0.01\n",
    "    thetaTR = theta.copy()\n",
    "    \n",
    "    train_err = np.zeros(1000)\n",
    "    val_err = np.zeros(1000)\n",
    "    \n",
    "    for i in range(1, 1000):\n",
    "        \n",
    "        thetaTR = gradDescLearning(X_train[0:i + 1, :], y_train[0:i + 1], theta, alpha, itera)\n",
    "        \n",
    "        train_err[i] = computeCostMulti(X_train[0:i + 1, :], y_train[0:i + 1], thetaTR[0])\n",
    "        \n",
    "        val_err[i] = computeCostMulti(X_val[0:i + 1, :], y_val[0:i + 1], thetaTR[0])\n",
    "    plt.figure(figsize=(16,9))\n",
    "    plt.plot(range(2, 1000 + 1), train_err[1:], c=\"r\", linewidth=2)\n",
    "    plt.plot(range(2, 1000 + 1), val_err[1:], c=\"b\", linewidth=2)\n",
    "    plt.xlabel(\"number of training examples\", fontsize=14)\n",
    "    plt.ylabel(\"error\", fontsize=14)\n",
    "    plt.legend([\"training\", \"validation\"], loc=\"best\")\n",
    "    plt.axis([2, 1000, 0, 1])\n",
    "    plt.grid()"
   ]
  },
  {
   "cell_type": "code",
   "execution_count": 32,
   "metadata": {},
   "outputs": [],
   "source": [
    "\n",
    "def gradDescLearning(X, y, theta, alpha, num_iters):\n",
    "\n",
    "\n",
    "    m = y.shape[0] \n",
    "\n",
    "    #theta = np.expand_dims(theta, axis=-1)\n",
    "\n",
    "    J_history = []\n",
    "    \n",
    "    for i in range(num_iters):\n",
    "\n",
    "        Hyp = np.dot(X, theta)\n",
    "        \n",
    "        theta = theta - ((alpha/m)*(np.dot(X.T, Hyp-y)))\n",
    "\n",
    "        #J_history.append(computeCostMulti(X, y, theta))\n",
    "    \n",
    "    return theta,"
   ]
  },
  {
   "cell_type": "code",
   "execution_count": 33,
   "metadata": {
    "scrolled": true
   },
   "outputs": [],
   "source": [
    "#we can conclude from the resulting learning curve that the model has high variance\n",
    "#this is due to the high order polynomial hypothesis function used to train the model (X_train order 4)\n",
    "#however, we can see that as we increase the number of training examples (data rows),\n",
    "#both the training and and validation error seem to be approaching to a convergence point (0.26-0.33)\n",
    "#we can then conclude that taking more data samples would allow this model to\n",
    "#increase its performance"
   ]
  },
  {
   "cell_type": "code",
   "execution_count": 34,
   "metadata": {},
   "outputs": [
    {
     "data": {
      "image/png": "[encoded data removed]",
      "text/plain": [
       "<Figure size 1152x648 with 1 Axes>"
      ]
     },
     "metadata": {
      "needs_background": "light"
     },
     "output_type": "display_data"
    }
   ],
   "source": [
    "learning_curves(X_train4N, y_trainN, X_cv4N, y_cvN)"
   ]
  },
  {
   "cell_type": "code",
   "execution_count": null,
   "metadata": {},
   "outputs": [],
   "source": []
  }
 ],
 "metadata": {
  "kernelspec": {
   "display_name": "Python 3",
   "language": "python",
   "name": "python3"
  },
  "language_info": {
   "codemirror_mode": {
    "name": "ipython",
    "version": 3
   },
   "file_extension": ".py",
   "mimetype": "text/x-python",
   "name": "python",
   "nbconvert_exporter": "python",
   "pygments_lexer": "ipython3",
   "version": "3.8.2"
  }
 },
 "nbformat": 4,
 "nbformat_minor": 4
}
